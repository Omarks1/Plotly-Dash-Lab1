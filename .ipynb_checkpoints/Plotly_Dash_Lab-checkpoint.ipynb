{
 "cells": [
  {
   "cell_type": "markdown",
   "metadata": {},
   "source": [
    "# Q0: import dash standard libraries"
   ]
  },
  {
   "cell_type": "code",
   "execution_count": 1,
   "metadata": {},
   "outputs": [],
   "source": [
    "from dash import Dash, dcc, html, Input, Output\n",
    "from jupyter_dash import JupyterDash\n",
    "import plotly.express as px\n",
    "import plotly.graph_objects as go"
   ]
  },
  {
   "cell_type": "code",
   "execution_count": 2,
   "metadata": {
    "scrolled": true
   },
   "outputs": [
    {
     "name": "stdout",
     "output_type": "stream",
     "text": [
      "Requirement already satisfied: jupyter_dash in c:\\users\\user\\anaconda3\\lib\\site-packages (0.4.2)\n",
      "Requirement already satisfied: nest-asyncio in c:\\users\\user\\appdata\\roaming\\python\\python310\\site-packages (from jupyter_dash) (1.5.6)\n",
      "Requirement already satisfied: dash in c:\\users\\user\\anaconda3\\lib\\site-packages (from jupyter_dash) (2.10.1)\n",
      "Requirement already satisfied: retrying in c:\\users\\user\\anaconda3\\lib\\site-packages (from jupyter_dash) (1.3.4)\n",
      "Requirement already satisfied: requests in c:\\users\\user\\anaconda3\\lib\\site-packages (from jupyter_dash) (2.28.1)\n",
      "Requirement already satisfied: ipykernel in c:\\users\\user\\appdata\\roaming\\python\\python310\\site-packages (from jupyter_dash) (6.19.2)\n",
      "Requirement already satisfied: ansi2html in c:\\users\\user\\anaconda3\\lib\\site-packages (from jupyter_dash) (1.8.0)\n",
      "Requirement already satisfied: flask in c:\\users\\user\\anaconda3\\lib\\site-packages (from jupyter_dash) (2.2.2)\n",
      "Requirement already satisfied: ipython in c:\\users\\user\\appdata\\roaming\\python\\python310\\site-packages (from jupyter_dash) (8.7.0)\n",
      "Requirement already satisfied: plotly>=5.0.0 in c:\\users\\user\\anaconda3\\lib\\site-packages (from dash->jupyter_dash) (5.9.0)\n",
      "Requirement already satisfied: dash-core-components==2.0.0 in c:\\users\\user\\anaconda3\\lib\\site-packages (from dash->jupyter_dash) (2.0.0)\n",
      "Requirement already satisfied: dash-table==5.0.0 in c:\\users\\user\\anaconda3\\lib\\site-packages (from dash->jupyter_dash) (5.0.0)\n",
      "Requirement already satisfied: Werkzeug<=2.2.3 in c:\\users\\user\\anaconda3\\lib\\site-packages (from dash->jupyter_dash) (2.2.2)\n",
      "Requirement already satisfied: dash-html-components==2.0.0 in c:\\users\\user\\anaconda3\\lib\\site-packages (from dash->jupyter_dash) (2.0.0)\n",
      "Requirement already satisfied: Jinja2>=3.0 in c:\\users\\user\\anaconda3\\lib\\site-packages (from flask->jupyter_dash) (3.1.2)\n",
      "Requirement already satisfied: click>=8.0 in c:\\users\\user\\anaconda3\\lib\\site-packages (from flask->jupyter_dash) (8.0.4)\n",
      "Requirement already satisfied: itsdangerous>=2.0 in c:\\users\\user\\anaconda3\\lib\\site-packages (from flask->jupyter_dash) (2.0.1)\n",
      "Requirement already satisfied: traitlets>=5.4.0 in c:\\users\\user\\appdata\\roaming\\python\\python310\\site-packages (from ipykernel->jupyter_dash) (5.7.1)\n",
      "Requirement already satisfied: packaging in c:\\users\\user\\appdata\\roaming\\python\\python310\\site-packages (from ipykernel->jupyter_dash) (22.0)\n",
      "Requirement already satisfied: comm>=0.1.1 in c:\\users\\user\\appdata\\roaming\\python\\python310\\site-packages (from ipykernel->jupyter_dash) (0.1.2)\n",
      "Requirement already satisfied: debugpy>=1.0 in c:\\users\\user\\appdata\\roaming\\python\\python310\\site-packages (from ipykernel->jupyter_dash) (1.6.4)\n",
      "Requirement already satisfied: psutil in c:\\users\\user\\appdata\\roaming\\python\\python310\\site-packages (from ipykernel->jupyter_dash) (5.9.4)\n",
      "Requirement already satisfied: matplotlib-inline>=0.1 in c:\\users\\user\\appdata\\roaming\\python\\python310\\site-packages (from ipykernel->jupyter_dash) (0.1.6)\n",
      "Requirement already satisfied: pyzmq>=17 in c:\\users\\user\\appdata\\roaming\\python\\python310\\site-packages (from ipykernel->jupyter_dash) (24.0.1)\n",
      "Requirement already satisfied: jupyter-client>=6.1.12 in c:\\users\\user\\appdata\\roaming\\python\\python310\\site-packages (from ipykernel->jupyter_dash) (7.4.8)\n",
      "Requirement already satisfied: tornado>=6.1 in c:\\users\\user\\appdata\\roaming\\python\\python310\\site-packages (from ipykernel->jupyter_dash) (6.2)\n",
      "Requirement already satisfied: jedi>=0.16 in c:\\users\\user\\appdata\\roaming\\python\\python310\\site-packages (from ipython->jupyter_dash) (0.18.2)\n",
      "Requirement already satisfied: stack-data in c:\\users\\user\\appdata\\roaming\\python\\python310\\site-packages (from ipython->jupyter_dash) (0.6.2)\n",
      "Requirement already satisfied: decorator in c:\\users\\user\\appdata\\roaming\\python\\python310\\site-packages (from ipython->jupyter_dash) (5.1.1)\n",
      "Requirement already satisfied: backcall in c:\\users\\user\\appdata\\roaming\\python\\python310\\site-packages (from ipython->jupyter_dash) (0.2.0)\n",
      "Requirement already satisfied: pickleshare in c:\\users\\user\\appdata\\roaming\\python\\python310\\site-packages (from ipython->jupyter_dash) (0.7.5)\n",
      "Requirement already satisfied: pygments>=2.4.0 in c:\\users\\user\\appdata\\roaming\\python\\python310\\site-packages (from ipython->jupyter_dash) (2.13.0)\n",
      "Requirement already satisfied: colorama in c:\\users\\user\\appdata\\roaming\\python\\python310\\site-packages (from ipython->jupyter_dash) (0.4.6)\n",
      "Requirement already satisfied: prompt-toolkit<3.1.0,>=3.0.11 in c:\\users\\user\\appdata\\roaming\\python\\python310\\site-packages (from ipython->jupyter_dash) (3.0.36)\n",
      "Requirement already satisfied: urllib3<1.27,>=1.21.1 in c:\\users\\user\\anaconda3\\lib\\site-packages (from requests->jupyter_dash) (1.26.14)\n",
      "Requirement already satisfied: charset-normalizer<3,>=2 in c:\\users\\user\\anaconda3\\lib\\site-packages (from requests->jupyter_dash) (2.0.4)\n",
      "Requirement already satisfied: idna<4,>=2.5 in c:\\users\\user\\anaconda3\\lib\\site-packages (from requests->jupyter_dash) (3.4)\n",
      "Requirement already satisfied: certifi>=2017.4.17 in c:\\users\\user\\anaconda3\\lib\\site-packages (from requests->jupyter_dash) (2022.12.7)\n",
      "Requirement already satisfied: six>=1.7.0 in c:\\users\\user\\appdata\\roaming\\python\\python310\\site-packages (from retrying->jupyter_dash) (1.16.0)\n",
      "Requirement already satisfied: parso<0.9.0,>=0.8.0 in c:\\users\\user\\appdata\\roaming\\python\\python310\\site-packages (from jedi>=0.16->ipython->jupyter_dash) (0.8.3)\n",
      "Requirement already satisfied: MarkupSafe>=2.0 in c:\\users\\user\\anaconda3\\lib\\site-packages (from Jinja2>=3.0->flask->jupyter_dash) (2.1.1)\n",
      "Requirement already satisfied: entrypoints in c:\\users\\user\\appdata\\roaming\\python\\python310\\site-packages (from jupyter-client>=6.1.12->ipykernel->jupyter_dash) (0.4)\n",
      "Requirement already satisfied: python-dateutil>=2.8.2 in c:\\users\\user\\appdata\\roaming\\python\\python310\\site-packages (from jupyter-client>=6.1.12->ipykernel->jupyter_dash) (2.8.2)\n",
      "Requirement already satisfied: jupyter-core>=4.9.2 in c:\\users\\user\\appdata\\roaming\\python\\python310\\site-packages (from jupyter-client>=6.1.12->ipykernel->jupyter_dash) (5.1.0)\n",
      "Requirement already satisfied: tenacity>=6.2.0 in c:\\users\\user\\anaconda3\\lib\\site-packages (from plotly>=5.0.0->dash->jupyter_dash) (8.0.1)\n",
      "Requirement already satisfied: wcwidth in c:\\users\\user\\appdata\\roaming\\python\\python310\\site-packages (from prompt-toolkit<3.1.0,>=3.0.11->ipython->jupyter_dash) (0.2.5)\n",
      "Requirement already satisfied: pure-eval in c:\\users\\user\\appdata\\roaming\\python\\python310\\site-packages (from stack-data->ipython->jupyter_dash) (0.2.2)\n",
      "Requirement already satisfied: executing>=1.2.0 in c:\\users\\user\\appdata\\roaming\\python\\python310\\site-packages (from stack-data->ipython->jupyter_dash) (1.2.0)\n",
      "Requirement already satisfied: asttokens>=2.1.0 in c:\\users\\user\\appdata\\roaming\\python\\python310\\site-packages (from stack-data->ipython->jupyter_dash) (2.2.1)\n",
      "Requirement already satisfied: platformdirs>=2.5 in c:\\users\\user\\appdata\\roaming\\python\\python310\\site-packages (from jupyter-core>=4.9.2->jupyter-client>=6.1.12->ipykernel->jupyter_dash) (2.6.0)\n",
      "Requirement already satisfied: pywin32>=1.0 in c:\\users\\user\\appdata\\roaming\\python\\python310\\site-packages (from jupyter-core>=4.9.2->jupyter-client>=6.1.12->ipykernel->jupyter_dash) (305)\n",
      "Collecting dash-bootstrap-components\n",
      "  Downloading dash_bootstrap_components-1.4.1-py3-none-any.whl (220 kB)\n",
      "     ------------------------------------ 220.6/220.6 kB 895.3 kB/s eta 0:00:00\n",
      "Requirement already satisfied: dash>=2.0.0 in c:\\users\\user\\anaconda3\\lib\\site-packages (from dash-bootstrap-components) (2.10.1)\n",
      "Requirement already satisfied: dash-table==5.0.0 in c:\\users\\user\\anaconda3\\lib\\site-packages (from dash>=2.0.0->dash-bootstrap-components) (5.0.0)\n",
      "Requirement already satisfied: Werkzeug<=2.2.3 in c:\\users\\user\\anaconda3\\lib\\site-packages (from dash>=2.0.0->dash-bootstrap-components) (2.2.2)\n",
      "Requirement already satisfied: plotly>=5.0.0 in c:\\users\\user\\anaconda3\\lib\\site-packages (from dash>=2.0.0->dash-bootstrap-components) (5.9.0)\n",
      "Requirement already satisfied: Flask<=2.2.3,>=1.0.4 in c:\\users\\user\\anaconda3\\lib\\site-packages (from dash>=2.0.0->dash-bootstrap-components) (2.2.2)\n",
      "Requirement already satisfied: dash-html-components==2.0.0 in c:\\users\\user\\anaconda3\\lib\\site-packages (from dash>=2.0.0->dash-bootstrap-components) (2.0.0)\n",
      "Requirement already satisfied: dash-core-components==2.0.0 in c:\\users\\user\\anaconda3\\lib\\site-packages (from dash>=2.0.0->dash-bootstrap-components) (2.0.0)\n",
      "Requirement already satisfied: click>=8.0 in c:\\users\\user\\anaconda3\\lib\\site-packages (from Flask<=2.2.3,>=1.0.4->dash>=2.0.0->dash-bootstrap-components) (8.0.4)\n",
      "Requirement already satisfied: itsdangerous>=2.0 in c:\\users\\user\\anaconda3\\lib\\site-packages (from Flask<=2.2.3,>=1.0.4->dash>=2.0.0->dash-bootstrap-components) (2.0.1)\n",
      "Requirement already satisfied: Jinja2>=3.0 in c:\\users\\user\\anaconda3\\lib\\site-packages (from Flask<=2.2.3,>=1.0.4->dash>=2.0.0->dash-bootstrap-components) (3.1.2)\n",
      "Requirement already satisfied: tenacity>=6.2.0 in c:\\users\\user\\anaconda3\\lib\\site-packages (from plotly>=5.0.0->dash>=2.0.0->dash-bootstrap-components) (8.0.1)\n",
      "Requirement already satisfied: MarkupSafe>=2.1.1 in c:\\users\\user\\anaconda3\\lib\\site-packages (from Werkzeug<=2.2.3->dash>=2.0.0->dash-bootstrap-components) (2.1.1)\n",
      "Requirement already satisfied: colorama in c:\\users\\user\\appdata\\roaming\\python\\python310\\site-packages (from click>=8.0->Flask<=2.2.3,>=1.0.4->dash>=2.0.0->dash-bootstrap-components) (0.4.6)\n",
      "Installing collected packages: dash-bootstrap-components\n",
      "Successfully installed dash-bootstrap-components-1.4.1\n"
     ]
    }
   ],
   "source": [
    "!pip install jupyter_dash\n",
    "!pip install dash-bootstrap-components"
   ]
  },
  {
   "cell_type": "code",
   "execution_count": 3,
   "metadata": {
    "scrolled": true
   },
   "outputs": [
    {
     "name": "stdout",
     "output_type": "stream",
     "text": [
      "Requirement already satisfied: dash in c:\\users\\user\\anaconda3\\lib\\site-packages (2.10.1)\n",
      "Requirement already satisfied: dash-core-components==2.0.0 in c:\\users\\user\\anaconda3\\lib\\site-packages (from dash) (2.0.0)\n",
      "Requirement already satisfied: Flask<=2.2.3,>=1.0.4 in c:\\users\\user\\anaconda3\\lib\\site-packages (from dash) (2.2.2)\n",
      "Requirement already satisfied: dash-table==5.0.0 in c:\\users\\user\\anaconda3\\lib\\site-packages (from dash) (5.0.0)\n",
      "Requirement already satisfied: dash-html-components==2.0.0 in c:\\users\\user\\anaconda3\\lib\\site-packages (from dash) (2.0.0)\n",
      "Requirement already satisfied: plotly>=5.0.0 in c:\\users\\user\\anaconda3\\lib\\site-packages (from dash) (5.9.0)\n",
      "Requirement already satisfied: Werkzeug<=2.2.3 in c:\\users\\user\\anaconda3\\lib\\site-packages (from dash) (2.2.2)\n",
      "Requirement already satisfied: Jinja2>=3.0 in c:\\users\\user\\anaconda3\\lib\\site-packages (from Flask<=2.2.3,>=1.0.4->dash) (3.1.2)\n",
      "Requirement already satisfied: click>=8.0 in c:\\users\\user\\anaconda3\\lib\\site-packages (from Flask<=2.2.3,>=1.0.4->dash) (8.0.4)\n",
      "Requirement already satisfied: itsdangerous>=2.0 in c:\\users\\user\\anaconda3\\lib\\site-packages (from Flask<=2.2.3,>=1.0.4->dash) (2.0.1)\n",
      "Requirement already satisfied: tenacity>=6.2.0 in c:\\users\\user\\anaconda3\\lib\\site-packages (from plotly>=5.0.0->dash) (8.0.1)\n",
      "Requirement already satisfied: MarkupSafe>=2.1.1 in c:\\users\\user\\anaconda3\\lib\\site-packages (from Werkzeug<=2.2.3->dash) (2.1.1)\n",
      "Requirement already satisfied: colorama in c:\\users\\user\\appdata\\roaming\\python\\python310\\site-packages (from click>=8.0->Flask<=2.2.3,>=1.0.4->dash) (0.4.6)\n"
     ]
    },
    {
     "name": "stderr",
     "output_type": "stream",
     "text": [
      "ERROR: unknown command \"isntall\" - maybe you meant \"install\"\n",
      "\n"
     ]
    }
   ],
   "source": [
    "\n"
   ]
  },
  {
   "cell_type": "markdown",
   "metadata": {},
   "source": [
    "# Q1: Make dash that prints \"Data Science\""
   ]
  },
  {
   "cell_type": "code",
   "execution_count": 11,
   "metadata": {},
   "outputs": [
    {
     "name": "stdout",
     "output_type": "stream",
     "text": [
      "Dash is running on http://127.0.0.1:8050/\n",
      "\n",
      " * Serving Flask app '__main__'\n",
      " * Debug mode: off\n"
     ]
    },
    {
     "name": "stderr",
     "output_type": "stream",
     "text": [
      "WARNING: This is a development server. Do not use it in a production deployment. Use a production WSGI server instead.\n",
      " * Running on http://127.0.0.1:8050\n",
      "Press CTRL+C to quit\n",
      "127.0.0.1 - - [31/May/2023 13:07:18] \"GET / HTTP/1.1\" 200 -\n",
      "127.0.0.1 - - [31/May/2023 13:07:18] \"GET /_dash-component-suites/dash/deps/polyfill@7.v2_10_1m1685523522.12.1.min.js HTTP/1.1\" 200 -\n",
      "127.0.0.1 - - [31/May/2023 13:07:18] \"GET /_dash-component-suites/dash/deps/react@16.v2_10_1m1685523522.14.0.min.js HTTP/1.1\" 200 -\n",
      "127.0.0.1 - - [31/May/2023 13:07:18] \"GET /_dash-component-suites/dash/dash-renderer/build/dash_renderer.v2_10_1m1685523522.min.js HTTP/1.1\" 200 -\n",
      "127.0.0.1 - - [31/May/2023 13:07:18] \"GET /_dash-component-suites/dash/deps/prop-types@15.v2_10_1m1685523522.8.1.min.js HTTP/1.1\" 200 -\n",
      "127.0.0.1 - - [31/May/2023 13:07:18] \"GET /_dash-component-suites/dash/deps/react-dom@16.v2_10_1m1685523522.14.0.min.js HTTP/1.1\" 200 -\n",
      "127.0.0.1 - - [31/May/2023 13:07:18] \"GET /_dash-component-suites/dash/dcc/dash_core_components.v2_10_0m1685523522.js HTTP/1.1\" 200 -\n",
      "127.0.0.1 - - [31/May/2023 13:07:18] \"GET /_dash-component-suites/dash/html/dash_html_components.v2_0_12m1685523523.min.js HTTP/1.1\" 200 -\n",
      "127.0.0.1 - - [31/May/2023 13:07:18] \"GET /_dash-component-suites/dash/dcc/dash_core_components-shared.v2_10_0m1685523522.js HTTP/1.1\" 200 -\n",
      "127.0.0.1 - - [31/May/2023 13:07:18] \"GET /_dash-component-suites/dash/dash_table/bundle.v5_2_5m1685523522.js HTTP/1.1\" 200 -\n",
      "127.0.0.1 - - [31/May/2023 13:07:18] \"GET /_dash-layout HTTP/1.1\" 200 -\n",
      "127.0.0.1 - - [31/May/2023 13:07:18] \"GET /_dash-dependencies HTTP/1.1\" 200 -\n",
      "127.0.0.1 - - [31/May/2023 13:07:18] \"GET /_favicon.ico?v=2.10.1 HTTP/1.1\" 200 -\n",
      "127.0.0.1 - - [31/May/2023 13:13:24] \"GET / HTTP/1.1\" 200 -\n",
      "127.0.0.1 - - [31/May/2023 13:13:25] \"GET /_dash-layout HTTP/1.1\" 200 -\n",
      "127.0.0.1 - - [31/May/2023 13:13:25] \"GET /_dash-dependencies HTTP/1.1\" 200 -\n",
      "127.0.0.1 - - [31/May/2023 13:14:08] \"GET /_alive_286d64ac-e461-4e83-ab80-e82ba6af4d5c HTTP/1.1\" 200 -\n",
      "127.0.0.1 - - [31/May/2023 13:14:08] \"GET /_alive_286d64ac-e461-4e83-ab80-e82ba6af4d5c HTTP/1.1\" 200 -\n",
      "127.0.0.1 - - [31/May/2023 13:14:08] \"GET /_alive_286d64ac-e461-4e83-ab80-e82ba6af4d5c HTTP/1.1\" 200 -\n",
      "127.0.0.1 - - [31/May/2023 13:14:09] \"GET /_alive_286d64ac-e461-4e83-ab80-e82ba6af4d5c HTTP/1.1\" 200 -\n",
      "127.0.0.1 - - [31/May/2023 13:14:09] \"GET /_alive_286d64ac-e461-4e83-ab80-e82ba6af4d5c HTTP/1.1\" 200 -\n",
      "127.0.0.1 - - [31/May/2023 13:14:09] \"GET /_alive_286d64ac-e461-4e83-ab80-e82ba6af4d5c HTTP/1.1\" 200 -\n",
      "127.0.0.1 - - [31/May/2023 13:14:10] \"GET /_alive_286d64ac-e461-4e83-ab80-e82ba6af4d5c HTTP/1.1\" 200 -\n",
      "127.0.0.1 - - [31/May/2023 13:14:11] \"GET /_alive_286d64ac-e461-4e83-ab80-e82ba6af4d5c HTTP/1.1\" 200 -\n",
      "127.0.0.1 - - [31/May/2023 13:14:11] \"GET / HTTP/1.1\" 200 -\n",
      "127.0.0.1 - - [31/May/2023 13:14:11] \"GET /_dash-layout HTTP/1.1\" 200 -\n",
      "127.0.0.1 - - [31/May/2023 13:14:11] \"GET /_dash-dependencies HTTP/1.1\" 200 -\n",
      "127.0.0.1 - - [31/May/2023 13:14:12] \"GET /_alive_286d64ac-e461-4e83-ab80-e82ba6af4d5c HTTP/1.1\" 200 -\n",
      "127.0.0.1 - - [31/May/2023 13:14:13] \"GET /_alive_286d64ac-e461-4e83-ab80-e82ba6af4d5c HTTP/1.1\" 200 -\n",
      "127.0.0.1 - - [31/May/2023 13:14:14] \"GET /_alive_286d64ac-e461-4e83-ab80-e82ba6af4d5c HTTP/1.1\" 200 -\n",
      "127.0.0.1 - - [31/May/2023 13:14:15] \"GET /_alive_286d64ac-e461-4e83-ab80-e82ba6af4d5c HTTP/1.1\" 200 -\n",
      "127.0.0.1 - - [31/May/2023 13:14:16] \"GET /_alive_286d64ac-e461-4e83-ab80-e82ba6af4d5c HTTP/1.1\" 200 -\n",
      "127.0.0.1 - - [31/May/2023 13:14:17] \"GET /_alive_286d64ac-e461-4e83-ab80-e82ba6af4d5c HTTP/1.1\" 200 -\n",
      "127.0.0.1 - - [31/May/2023 13:14:18] \"GET /_alive_286d64ac-e461-4e83-ab80-e82ba6af4d5c HTTP/1.1\" 200 -\n",
      "127.0.0.1 - - [31/May/2023 13:23:36] \"GET /_alive_09ae5e33-3857-4f9a-a16a-1e370cce32a3 HTTP/1.1\" 200 -\n",
      "127.0.0.1 - - [31/May/2023 13:23:36] \"GET /_alive_09ae5e33-3857-4f9a-a16a-1e370cce32a3 HTTP/1.1\" 200 -\n",
      "127.0.0.1 - - [31/May/2023 13:23:36] \"GET /_alive_09ae5e33-3857-4f9a-a16a-1e370cce32a3 HTTP/1.1\" 200 -\n",
      "127.0.0.1 - - [31/May/2023 13:23:36] \"GET /_alive_09ae5e33-3857-4f9a-a16a-1e370cce32a3 HTTP/1.1\" 200 -\n",
      "127.0.0.1 - - [31/May/2023 13:23:36] \"GET /_alive_09ae5e33-3857-4f9a-a16a-1e370cce32a3 HTTP/1.1\" 200 -\n",
      "127.0.0.1 - - [31/May/2023 13:23:36] \"GET /_alive_09ae5e33-3857-4f9a-a16a-1e370cce32a3 HTTP/1.1\" 200 -\n",
      "127.0.0.1 - - [31/May/2023 13:23:37] \"GET /_alive_09ae5e33-3857-4f9a-a16a-1e370cce32a3 HTTP/1.1\" 200 -\n",
      "127.0.0.1 - - [31/May/2023 13:24:01] \"GET / HTTP/1.1\" 200 -\n",
      "127.0.0.1 - - [31/May/2023 13:24:01] \"GET /_dash-layout HTTP/1.1\" 200 -\n",
      "127.0.0.1 - - [31/May/2023 13:24:01] \"GET /_dash-dependencies HTTP/1.1\" 200 -\n"
     ]
    }
   ],
   "source": [
    "from dash import Dash, html\n",
    "\n",
    "app = Dash(__name__)\n",
    "\n",
    "app.layout = html.Div([\n",
    "    html.H1('Data Science')\n",
    "])\n",
    "\n",
    "if __name__ == '__main__':\n",
    "    app.run() # app.run_server() also works"
   ]
  },
  {
   "cell_type": "markdown",
   "metadata": {},
   "source": [
    "# Q2: Make dash that takes name input and outpt \"Welcome to Data Science dashboard {name}\""
   ]
  },
  {
   "cell_type": "code",
   "execution_count": 3,
   "metadata": {},
   "outputs": [
    {
     "name": "stdout",
     "output_type": "stream",
     "text": [
      "Dash is running on http://127.0.0.1:8050/\n",
      "\n",
      "Dash app running on http://127.0.0.1:8050/\n"
     ]
    }
   ],
   "source": [
    "app = JupyterDash(__name__)\n",
    "\n",
    "app.layout = html.Div([\n",
    "    html.H2(\"Welcome to Data Science dashboard\"),\n",
    "    html.Div([\n",
    "        \"Input: \",\n",
    "        dcc.Input(id='my-input', type='text')\n",
    "    ]),\n",
    "    html.Br(),\n",
    "    html.Div(id='my-output'),\n",
    "\n",
    "])\n",
    "\n",
    "\n",
    "@app.callback(\n",
    "    Output(component_id='my-output', component_property='children'),\n",
    "    Input(component_id='my-input', component_property='value')\n",
    ")\n",
    "def update_output_div(b):\n",
    "    return f'Welcome to Data Science dashboard : {b}'\n",
    "\n",
    "\n",
    "if __name__ == '__main__':\n",
    "    app.run_server()"
   ]
  },
  {
   "cell_type": "markdown",
   "metadata": {},
   "source": [
    "# Q3: Make Plotly-Dash that takes two inputs (numbers) and output 3 numbers x, y , z= x+y\n",
    "- hint: use html.Div, dcc.Input(type='number')"
   ]
  },
  {
   "cell_type": "code",
   "execution_count": 1,
   "metadata": {},
   "outputs": [
    {
     "name": "stdout",
     "output_type": "stream",
     "text": [
      "Dash is running on http://127.0.0.1:8050/\n",
      "\n"
     ]
    },
    {
     "data": {
      "text/html": [
       "\n",
       "        <iframe\n",
       "            width=\"100%\"\n",
       "            height=\"650\"\n",
       "            src=\"http://127.0.0.1:8050/\"\n",
       "            frameborder=\"0\"\n",
       "            allowfullscreen\n",
       "            \n",
       "        ></iframe>\n",
       "        "
      ],
      "text/plain": [
       "<IPython.lib.display.IFrame at 0x21574feff40>"
      ]
     },
     "metadata": {},
     "output_type": "display_data"
    },
    {
     "name": "stdout",
     "output_type": "stream",
     "text": [
      "\u001b[1;31m---------------------------------------------------------------------------\u001b[0m\n",
      "\u001b[1;31mTypeError\u001b[0m                                 Traceback (most recent call last)\n",
      "\u001b[1;31mTypeError\u001b[0m: float() argument must be a string or a real number, not 'NoneType'\n",
      "\n",
      "\u001b[1;31m---------------------------------------------------------------------------\u001b[0m\n",
      "\u001b[1;31mTypeError\u001b[0m                                 Traceback (most recent call last)\n",
      "\u001b[1;31mTypeError\u001b[0m: float() argument must be a string or a real number, not 'NoneType'\n",
      "\n",
      "\u001b[1;31m---------------------------------------------------------------------------\u001b[0m\n",
      "\u001b[1;31mTypeError\u001b[0m                                 Traceback (most recent call last)\n",
      "\u001b[1;31mTypeError\u001b[0m: float() argument must be a string or a real number, not 'NoneType'\n",
      "\n",
      "\u001b[1;31m---------------------------------------------------------------------------\u001b[0m\n",
      "\u001b[1;31mTypeError\u001b[0m                                 Traceback (most recent call last)\n",
      "\u001b[1;31mTypeError\u001b[0m: float() argument must be a string or a real number, not 'NoneType'\n",
      "\n"
     ]
    }
   ],
   "source": [
    "from dash import Dash, dcc, html, Input, Output\n",
    "from jupyter_dash import JupyterDash\n",
    "import plotly.express as px\n",
    "import plotly.graph_objects as go\n",
    "\n",
    "\n",
    "\n",
    "\n",
    "app = JupyterDash(__name__)\n",
    "\n",
    "app.layout = html.Div([\n",
    "    html.H2(\"My dashboard\"),\n",
    "    html.Div([\n",
    "        \"Input: \",\n",
    "        dcc.Input(id='my-input', value='initial value', type='number')\n",
    "    ]),\n",
    "    html.Div([\n",
    "        \"Input: \",\n",
    "        dcc.Input(id='my-input2', value='initial value 2', type='number')\n",
    "    ]),\n",
    "    html.Br(),\n",
    "    html.Div(id='my-output'),\n",
    "\n",
    "])\n",
    "\n",
    "\n",
    "@app.callback(\n",
    "    Output(component_id='my-output', component_property='children'),\n",
    "    Input(component_id='my-input', component_property='value'),\n",
    "    Input(component_id='my-input2', component_property='value')\n",
    ")\n",
    "def update_output_div(input_value, input_value2):\n",
    "    \n",
    "    x=float(input_value)\n",
    "    y= float(input_value2)\n",
    "    z= x+y\n",
    "    return f'Output: {x} and the second: {y} and the sum: {z}'\n",
    "\n",
    "\n",
    "if __name__ == '__main__':\n",
    "    app.run_server(mode='inline')\n",
    "\n",
    "\n",
    "\n",
    "\n",
    "\n",
    "\n",
    "\n",
    "\n"
   ]
  },
  {
   "cell_type": "markdown",
   "metadata": {},
   "source": [
    "# Q4.1: Make JubyterDash with Rangeslider from 1-15 with 6 option"
   ]
  },
  {
   "cell_type": "code",
   "execution_count": 1,
   "metadata": {},
   "outputs": [
    {
     "name": "stdout",
     "output_type": "stream",
     "text": [
      "Dash is running on http://127.0.0.1:8050/\n",
      "\n"
     ]
    },
    {
     "data": {
      "text/html": [
       "\n",
       "        <iframe\n",
       "            width=\"100%\"\n",
       "            height=\"650\"\n",
       "            src=\"http://127.0.0.1:8050/\"\n",
       "            frameborder=\"0\"\n",
       "            allowfullscreen\n",
       "            \n",
       "        ></iframe>\n",
       "        "
      ],
      "text/plain": [
       "<IPython.lib.display.IFrame at 0x1681c9362c0>"
      ]
     },
     "metadata": {},
     "output_type": "display_data"
    }
   ],
   "source": [
    "from dash import Dash, dcc, html, Input, Output\n",
    "import plotly.graph_objects as go\n",
    "import numpy as np\n",
    "from jupyter_dash import JupyterDash\n",
    "\n",
    "\n",
    "app = JupyterDash(__name__) \n",
    "# app = Dash(__name__)\n",
    "\n",
    "\n",
    "app.layout = html.Div([\n",
    "    html.H2('My range slider'),\n",
    "#     dcc.Graph(id=\"graph\"),\n",
    "    html.P(\"Number of slider:\"),\n",
    "#     dcc.Slider(id=\"slider\", min=2, max=10, value=4, step=1),   \n",
    "    dcc.RangeSlider(id='my_range',\n",
    "        min=1,\n",
    "        max=15,\n",
    "        value=[6],)\n",
    "#      marks={i: str(i) for i in range(1, 16, 2)}\n",
    "])\n",
    "\n",
    "\n",
    "# @app.callback(\n",
    "#     Output(\"my_range\", \"value\"))\n",
    "    \n",
    "def update_bar_chart(size):\n",
    "\n",
    "    return size\n",
    "\n",
    "# app.run()  \n",
    "app.run_server(use_reloader=False, mode='inline') # Turn off reloader if inside Jupyter"
   ]
  },
  {
   "cell_type": "markdown",
   "metadata": {},
   "source": [
    "# Q4.2: add to the previous dash: Label, set default value on rangeslider as 7-10"
   ]
  },
  {
   "cell_type": "code",
   "execution_count": 1,
   "metadata": {},
   "outputs": [
    {
     "name": "stdout",
     "output_type": "stream",
     "text": [
      "Dash is running on http://127.0.0.1:8050/\n",
      "\n"
     ]
    },
    {
     "data": {
      "text/html": [
       "\n",
       "        <iframe\n",
       "            width=\"100%\"\n",
       "            height=\"650\"\n",
       "            src=\"http://127.0.0.1:8050/\"\n",
       "            frameborder=\"0\"\n",
       "            allowfullscreen\n",
       "            \n",
       "        ></iframe>\n",
       "        "
      ],
      "text/plain": [
       "<IPython.lib.display.IFrame at 0x1ca90e7ab60>"
      ]
     },
     "metadata": {},
     "output_type": "display_data"
    }
   ],
   "source": [
    "from dash import Dash, dcc, html, Input, Output\n",
    "import plotly.graph_objects as go\n",
    "import numpy as np\n",
    "from jupyter_dash import JupyterDash\n",
    "\n",
    "\n",
    "app = JupyterDash(__name__) \n",
    "# app = Dash(__name__)\n",
    "\n",
    "\n",
    "app.layout = html.Div([\n",
    "    html.H2('My range slider'),\n",
    "#     dcc.Graph(id=\"graph\"),\n",
    "    html.Label(\"Number of slider:\"),\n",
    "#     dcc.Slider(id=\"slider\", min=2, max=10, value=4, step=1),   \n",
    "    dcc.RangeSlider(id='my_range',\n",
    "        min=1,\n",
    "        max=15,\n",
    "        step=1,\n",
    "        value=[7,10],)\n",
    "#      marks={i: str(i) for i in range(1, 16, 2)}\n",
    "])\n",
    "\n",
    "\n",
    "# @app.callback(\n",
    "#     input()\n",
    "#     Output(\"my_range\", \"value\"))\n",
    "    \n",
    "def update_bar_chart(size):\n",
    "\n",
    "    return size\n",
    "\n",
    "# app.run()  \n",
    "app.run_server(use_reloader=False, mode='inline') # Turn off reloader if inside Jupyter"
   ]
  },
  {
   "cell_type": "markdown",
   "metadata": {},
   "source": [
    "# Q5: Make 3 different Dcc types (Dropdown - Checkbox...) in one dash"
   ]
  },
  {
   "cell_type": "code",
   "execution_count": 1,
   "metadata": {},
   "outputs": [
    {
     "name": "stdout",
     "output_type": "stream",
     "text": [
      "Dash is running on http://127.0.0.1:8050/\n",
      "\n"
     ]
    },
    {
     "data": {
      "text/html": [
       "\n",
       "        <iframe\n",
       "            width=\"100%\"\n",
       "            height=\"650\"\n",
       "            src=\"http://127.0.0.1:8050/\"\n",
       "            frameborder=\"0\"\n",
       "            allowfullscreen\n",
       "            \n",
       "        ></iframe>\n",
       "        "
      ],
      "text/plain": [
       "<IPython.lib.display.IFrame at 0x2fd919ea860>"
      ]
     },
     "metadata": {},
     "output_type": "display_data"
    }
   ],
   "source": [
    "from dash import Dash, dcc, html, Input, Output\n",
    "import plotly.graph_objects as go\n",
    "import numpy as np\n",
    "from jupyter_dash import JupyterDash\n",
    "\n",
    "\n",
    "app = JupyterDash(__name__) \n",
    "# app = Dash(__name__)\n",
    "\n",
    "\n",
    "app.layout = html.Div([\n",
    "    html.H2('My range slider'),\n",
    "#     dcc.Graph(id=\"graph\"),\n",
    "    html.Label(\"Number of slider:\"),   \n",
    "    dcc.RangeSlider(id='my_range',\n",
    "        min=1,\n",
    "        max=15,\n",
    "        step=1,\n",
    "        value=[7,10]),\n",
    "    dcc.Dropdown(['NYC', 'MTL', 'SF'],\n",
    "'NYC',\n",
    "id='demo-dropdown'),\n",
    "    dcc.Checklist(\n",
    "        ['New York City', 'Montréal', 'San Francisco'],\n",
    "        ['Montréal', 'San Francisco'],\n",
    "        inline=True\n",
    "    )\n",
    "#      marks={i: str(i) for i in range(1, 16, 2)}\n",
    "])\n",
    "\n",
    "\n",
    "# @app.callback(\n",
    "#     input()\n",
    "#     Output(\"my_range\", \"value\"))\n",
    "    \n",
    "def update_bar_chart(size):\n",
    "\n",
    "    return size\n",
    "\n",
    "# app.run()  \n",
    "app.run_server(use_reloader=False, mode='inline') # Turn off reloader if inside Jupyter\n"
   ]
  },
  {
   "cell_type": "markdown",
   "metadata": {},
   "source": [
    "# Q6: Make Plotly chart, then add it to a plotly_dash"
   ]
  },
  {
   "cell_type": "code",
   "execution_count": 2,
   "metadata": {},
   "outputs": [],
   "source": [
    "import plotly.express as px"
   ]
  },
  {
   "cell_type": "code",
   "execution_count": 1,
   "metadata": {},
   "outputs": [
    {
     "name": "stdout",
     "output_type": "stream",
     "text": [
      "Dash is running on http://127.0.0.1:8050/\n",
      "\n"
     ]
    },
    {
     "data": {
      "text/html": [
       "\n",
       "        <iframe\n",
       "            width=\"100%\"\n",
       "            height=\"650\"\n",
       "            src=\"http://127.0.0.1:8050/\"\n",
       "            frameborder=\"0\"\n",
       "            allowfullscreen\n",
       "            \n",
       "        ></iframe>\n",
       "        "
      ],
      "text/plain": [
       "<IPython.lib.display.IFrame at 0x24d3e2bf760>"
      ]
     },
     "metadata": {},
     "output_type": "display_data"
    }
   ],
   "source": [
    "from dash import Dash, dcc, html, Input, Output\n",
    "import plotly.graph_objects as go\n",
    "import numpy as np\n",
    "from jupyter_dash import JupyterDash\n",
    "\n",
    "\n",
    "app = JupyterDash(__name__) \n",
    "# app = Dash(__name__)\n",
    "\n",
    "\n",
    "app.layout = html.Div([\n",
    "    html.H2('My range slider'),\n",
    "    dcc.Graph(id=\"graph\"),\n",
    "    html.Label(\"Number of slider:\"),   \n",
    "    dcc.Slider(id='my_range',\n",
    "        min=1,\n",
    "        max=10,\n",
    "        step=1,\n",
    "        value=4)\n",
    "])\n",
    "\n",
    "\n",
    "@app.callback(\n",
    "    Output('graph','figure'),\n",
    "    Input(\"my_range\", \"value\"))\n",
    "    \n",
    "def update_bar_chart(size):\n",
    "    data = np.random.normal(3, 2, size=size) # fake data for example\n",
    "    fig = go.Figure(\n",
    "        data=[go.Bar(y=data)],\n",
    "#         layout_title_text=\"Native Plotly rendering in Dash\"\n",
    "    )\n",
    "\n",
    "    return fig\n",
    "\n",
    "# app.run()  \n",
    "app.run_server(use_reloader=False, mode='inline') # Turn off reloader if inside Jupyter\n"
   ]
  },
  {
   "cell_type": "code",
   "execution_count": null,
   "metadata": {},
   "outputs": [],
   "source": []
  },
  {
   "cell_type": "markdown",
   "metadata": {},
   "source": [
    "# Q7: From our data make plotly-dash with suitble chart, and Dropdown.\n",
    "\n",
    "- Dropdown should contain at least 3 options, each one represents different column.\n",
    "- Add label to dropdown.\n",
    "- The chart data should change depending on the selected dropdown option."
   ]
  },
  {
   "cell_type": "code",
   "execution_count": 2,
   "metadata": {},
   "outputs": [],
   "source": [
    "import pandas as pd\n",
    "df = pd.read_csv(\"titanic passenger list.csv\")"
   ]
  },
  {
   "cell_type": "code",
   "execution_count": 3,
   "metadata": {},
   "outputs": [
    {
     "data": {
      "text/html": [
       "<div>\n",
       "<style scoped>\n",
       "    .dataframe tbody tr th:only-of-type {\n",
       "        vertical-align: middle;\n",
       "    }\n",
       "\n",
       "    .dataframe tbody tr th {\n",
       "        vertical-align: top;\n",
       "    }\n",
       "\n",
       "    .dataframe thead th {\n",
       "        text-align: right;\n",
       "    }\n",
       "</style>\n",
       "<table border=\"1\" class=\"dataframe\">\n",
       "  <thead>\n",
       "    <tr style=\"text-align: right;\">\n",
       "      <th></th>\n",
       "      <th>pclass</th>\n",
       "      <th>survived</th>\n",
       "      <th>name</th>\n",
       "      <th>sex</th>\n",
       "      <th>age</th>\n",
       "      <th>sibsp</th>\n",
       "      <th>parch</th>\n",
       "      <th>ticket</th>\n",
       "      <th>fare</th>\n",
       "      <th>cabin</th>\n",
       "      <th>embarked</th>\n",
       "      <th>boat</th>\n",
       "      <th>body</th>\n",
       "      <th>home.dest</th>\n",
       "    </tr>\n",
       "  </thead>\n",
       "  <tbody>\n",
       "    <tr>\n",
       "      <th>0</th>\n",
       "      <td>1.0</td>\n",
       "      <td>1.0</td>\n",
       "      <td>Allen, Miss. Elisabeth Walton</td>\n",
       "      <td>female</td>\n",
       "      <td>29.0</td>\n",
       "      <td>0.0</td>\n",
       "      <td>0.0</td>\n",
       "      <td>24160</td>\n",
       "      <td>211.3375</td>\n",
       "      <td>B5</td>\n",
       "      <td>S</td>\n",
       "      <td>2</td>\n",
       "      <td>NaN</td>\n",
       "      <td>St Louis, MO</td>\n",
       "    </tr>\n",
       "    <tr>\n",
       "      <th>1</th>\n",
       "      <td>1.0</td>\n",
       "      <td>1.0</td>\n",
       "      <td>Allison, Master. Hudson Trevor</td>\n",
       "      <td>male</td>\n",
       "      <td>1.0</td>\n",
       "      <td>1.0</td>\n",
       "      <td>2.0</td>\n",
       "      <td>113781</td>\n",
       "      <td>151.5500</td>\n",
       "      <td>C22 C26</td>\n",
       "      <td>S</td>\n",
       "      <td>11</td>\n",
       "      <td>NaN</td>\n",
       "      <td>Montreal, PQ / Chesterville, ON</td>\n",
       "    </tr>\n",
       "    <tr>\n",
       "      <th>2</th>\n",
       "      <td>1.0</td>\n",
       "      <td>0.0</td>\n",
       "      <td>Allison, Miss. Helen Loraine</td>\n",
       "      <td>female</td>\n",
       "      <td>2.0</td>\n",
       "      <td>1.0</td>\n",
       "      <td>2.0</td>\n",
       "      <td>113781</td>\n",
       "      <td>151.5500</td>\n",
       "      <td>C22 C26</td>\n",
       "      <td>S</td>\n",
       "      <td>NaN</td>\n",
       "      <td>NaN</td>\n",
       "      <td>Montreal, PQ / Chesterville, ON</td>\n",
       "    </tr>\n",
       "    <tr>\n",
       "      <th>3</th>\n",
       "      <td>1.0</td>\n",
       "      <td>0.0</td>\n",
       "      <td>Allison, Mr. Hudson Joshua Creighton</td>\n",
       "      <td>male</td>\n",
       "      <td>30.0</td>\n",
       "      <td>1.0</td>\n",
       "      <td>2.0</td>\n",
       "      <td>113781</td>\n",
       "      <td>151.5500</td>\n",
       "      <td>C22 C26</td>\n",
       "      <td>S</td>\n",
       "      <td>NaN</td>\n",
       "      <td>135.0</td>\n",
       "      <td>Montreal, PQ / Chesterville, ON</td>\n",
       "    </tr>\n",
       "    <tr>\n",
       "      <th>4</th>\n",
       "      <td>1.0</td>\n",
       "      <td>0.0</td>\n",
       "      <td>Allison, Mrs. Hudson J C (Bessie Waldo Daniels)</td>\n",
       "      <td>female</td>\n",
       "      <td>25.0</td>\n",
       "      <td>1.0</td>\n",
       "      <td>2.0</td>\n",
       "      <td>113781</td>\n",
       "      <td>151.5500</td>\n",
       "      <td>C22 C26</td>\n",
       "      <td>S</td>\n",
       "      <td>NaN</td>\n",
       "      <td>NaN</td>\n",
       "      <td>Montreal, PQ / Chesterville, ON</td>\n",
       "    </tr>\n",
       "    <tr>\n",
       "      <th>...</th>\n",
       "      <td>...</td>\n",
       "      <td>...</td>\n",
       "      <td>...</td>\n",
       "      <td>...</td>\n",
       "      <td>...</td>\n",
       "      <td>...</td>\n",
       "      <td>...</td>\n",
       "      <td>...</td>\n",
       "      <td>...</td>\n",
       "      <td>...</td>\n",
       "      <td>...</td>\n",
       "      <td>...</td>\n",
       "      <td>...</td>\n",
       "      <td>...</td>\n",
       "    </tr>\n",
       "    <tr>\n",
       "      <th>1304</th>\n",
       "      <td>3.0</td>\n",
       "      <td>0.0</td>\n",
       "      <td>Zabour, Miss. Hileni</td>\n",
       "      <td>female</td>\n",
       "      <td>15.0</td>\n",
       "      <td>1.0</td>\n",
       "      <td>0.0</td>\n",
       "      <td>2665</td>\n",
       "      <td>14.4542</td>\n",
       "      <td>NaN</td>\n",
       "      <td>C</td>\n",
       "      <td>NaN</td>\n",
       "      <td>328.0</td>\n",
       "      <td>NaN</td>\n",
       "    </tr>\n",
       "    <tr>\n",
       "      <th>1305</th>\n",
       "      <td>3.0</td>\n",
       "      <td>0.0</td>\n",
       "      <td>Zabour, Miss. Thamine</td>\n",
       "      <td>female</td>\n",
       "      <td>NaN</td>\n",
       "      <td>1.0</td>\n",
       "      <td>0.0</td>\n",
       "      <td>2665</td>\n",
       "      <td>14.4542</td>\n",
       "      <td>NaN</td>\n",
       "      <td>C</td>\n",
       "      <td>NaN</td>\n",
       "      <td>NaN</td>\n",
       "      <td>NaN</td>\n",
       "    </tr>\n",
       "    <tr>\n",
       "      <th>1306</th>\n",
       "      <td>3.0</td>\n",
       "      <td>0.0</td>\n",
       "      <td>Zakarian, Mr. Mapriededer</td>\n",
       "      <td>male</td>\n",
       "      <td>27.0</td>\n",
       "      <td>0.0</td>\n",
       "      <td>0.0</td>\n",
       "      <td>2656</td>\n",
       "      <td>7.2250</td>\n",
       "      <td>NaN</td>\n",
       "      <td>C</td>\n",
       "      <td>NaN</td>\n",
       "      <td>304.0</td>\n",
       "      <td>NaN</td>\n",
       "    </tr>\n",
       "    <tr>\n",
       "      <th>1307</th>\n",
       "      <td>3.0</td>\n",
       "      <td>0.0</td>\n",
       "      <td>Zakarian, Mr. Ortin</td>\n",
       "      <td>male</td>\n",
       "      <td>27.0</td>\n",
       "      <td>0.0</td>\n",
       "      <td>0.0</td>\n",
       "      <td>2670</td>\n",
       "      <td>7.2250</td>\n",
       "      <td>NaN</td>\n",
       "      <td>C</td>\n",
       "      <td>NaN</td>\n",
       "      <td>NaN</td>\n",
       "      <td>NaN</td>\n",
       "    </tr>\n",
       "    <tr>\n",
       "      <th>1308</th>\n",
       "      <td>3.0</td>\n",
       "      <td>0.0</td>\n",
       "      <td>Zimmerman, Mr. Leo</td>\n",
       "      <td>male</td>\n",
       "      <td>29.0</td>\n",
       "      <td>0.0</td>\n",
       "      <td>0.0</td>\n",
       "      <td>315082</td>\n",
       "      <td>7.8750</td>\n",
       "      <td>NaN</td>\n",
       "      <td>S</td>\n",
       "      <td>NaN</td>\n",
       "      <td>NaN</td>\n",
       "      <td>NaN</td>\n",
       "    </tr>\n",
       "  </tbody>\n",
       "</table>\n",
       "<p>1309 rows × 14 columns</p>\n",
       "</div>"
      ],
      "text/plain": [
       "      pclass  survived                                             name  \\\n",
       "0        1.0       1.0                    Allen, Miss. Elisabeth Walton   \n",
       "1        1.0       1.0                   Allison, Master. Hudson Trevor   \n",
       "2        1.0       0.0                     Allison, Miss. Helen Loraine   \n",
       "3        1.0       0.0             Allison, Mr. Hudson Joshua Creighton   \n",
       "4        1.0       0.0  Allison, Mrs. Hudson J C (Bessie Waldo Daniels)   \n",
       "...      ...       ...                                              ...   \n",
       "1304     3.0       0.0                             Zabour, Miss. Hileni   \n",
       "1305     3.0       0.0                            Zabour, Miss. Thamine   \n",
       "1306     3.0       0.0                        Zakarian, Mr. Mapriededer   \n",
       "1307     3.0       0.0                              Zakarian, Mr. Ortin   \n",
       "1308     3.0       0.0                               Zimmerman, Mr. Leo   \n",
       "\n",
       "         sex   age  sibsp  parch  ticket      fare    cabin embarked boat  \\\n",
       "0     female  29.0    0.0    0.0   24160  211.3375       B5        S    2   \n",
       "1       male   1.0    1.0    2.0  113781  151.5500  C22 C26        S   11   \n",
       "2     female   2.0    1.0    2.0  113781  151.5500  C22 C26        S  NaN   \n",
       "3       male  30.0    1.0    2.0  113781  151.5500  C22 C26        S  NaN   \n",
       "4     female  25.0    1.0    2.0  113781  151.5500  C22 C26        S  NaN   \n",
       "...      ...   ...    ...    ...     ...       ...      ...      ...  ...   \n",
       "1304  female  15.0    1.0    0.0    2665   14.4542      NaN        C  NaN   \n",
       "1305  female   NaN    1.0    0.0    2665   14.4542      NaN        C  NaN   \n",
       "1306    male  27.0    0.0    0.0    2656    7.2250      NaN        C  NaN   \n",
       "1307    male  27.0    0.0    0.0    2670    7.2250      NaN        C  NaN   \n",
       "1308    male  29.0    0.0    0.0  315082    7.8750      NaN        S  NaN   \n",
       "\n",
       "       body                        home.dest  \n",
       "0       NaN                     St Louis, MO  \n",
       "1       NaN  Montreal, PQ / Chesterville, ON  \n",
       "2       NaN  Montreal, PQ / Chesterville, ON  \n",
       "3     135.0  Montreal, PQ / Chesterville, ON  \n",
       "4       NaN  Montreal, PQ / Chesterville, ON  \n",
       "...     ...                              ...  \n",
       "1304  328.0                              NaN  \n",
       "1305    NaN                              NaN  \n",
       "1306  304.0                              NaN  \n",
       "1307    NaN                              NaN  \n",
       "1308    NaN                              NaN  \n",
       "\n",
       "[1309 rows x 14 columns]"
      ]
     },
     "execution_count": 3,
     "metadata": {},
     "output_type": "execute_result"
    }
   ],
   "source": [
    "df"
   ]
  },
  {
   "cell_type": "markdown",
   "metadata": {},
   "source": [
    "# Q8: add 2 more charts to the prevoius Ploty-Dash"
   ]
  },
  {
   "cell_type": "code",
   "execution_count": 6,
   "metadata": {},
   "outputs": [],
   "source": [
    "fig= px.bar(df, x= 'sex', y= 'age')\n",
    "fig1= px.pie(df, values='age', names='sex')\n",
    "fig2= px.line(df, x='boat', y='age', color='sex', markers=True)\n",
    "\n"
   ]
  },
  {
   "cell_type": "code",
   "execution_count": 4,
   "metadata": {},
   "outputs": [
    {
     "name": "stdout",
     "output_type": "stream",
     "text": [
      "Dash is running on http://127.0.0.1:8050/\n",
      "\n"
     ]
    },
    {
     "data": {
      "text/html": [
       "\n",
       "        <iframe\n",
       "            width=\"100%\"\n",
       "            height=\"650\"\n",
       "            src=\"http://127.0.0.1:8050/\"\n",
       "            frameborder=\"0\"\n",
       "            allowfullscreen\n",
       "            \n",
       "        ></iframe>\n",
       "        "
      ],
      "text/plain": [
       "<IPython.lib.display.IFrame at 0x20157721870>"
      ]
     },
     "metadata": {},
     "output_type": "display_data"
    }
   ],
   "source": [
    "from dash import Dash, dcc, html, Input, Output\n",
    "import dash_bootstrap_components as dbc\n",
    "import plotly.graph_objects as go\n",
    "import plotly.express as px\n",
    "import numpy as np\n",
    "from jupyter_dash import JupyterDash\n",
    "\n",
    "app = JupyterDash(__name__)\n",
    "\n",
    "# Create initial figures\n",
    "fig = px.bar(df, x='sex', y='age')\n",
    "fig1 = px.pie(df, values='age', names='sex')\n",
    "fig2 = px.line(df, x='boat', y='age', color='sex', markers=True)\n",
    "\n",
    "app.layout = dbc.Container([\n",
    "    html.H2('My range slider'),\n",
    "    dbc.Row([\n",
    "        dbc.Col([\n",
    "            dcc.Graph(id='out-plot1', figure=fig)\n",
    "        ], width=4),\n",
    "        dbc.Col([\n",
    "            dcc.Graph(id='out-plot2', figure=fig1)\n",
    "        ], width=4),\n",
    "        dbc.Col([\n",
    "            dcc.Graph(id='out-plot3', figure=fig2)\n",
    "        ], width=4),\n",
    "    ]),\n",
    "    html.Label(\"Number of slider:\"),\n",
    "    dcc.Slider(\n",
    "        id='my_range',\n",
    "        min=1,\n",
    "        max=10,\n",
    "        step=1,\n",
    "        value=4\n",
    "    )\n",
    "])\n",
    "\n",
    "@app.callback(\n",
    "    [\n",
    "        Output('out-plot1', 'figure'),\n",
    "        Output('out-plot2', 'figure'),\n",
    "        Output('out-plot3', 'figure')\n",
    "    ],\n",
    "    Input('my_range', 'value')\n",
    ")\n",
    "def update_bar_chart(size):\n",
    "    # Your code to generate figures for out-plot1, out-plot2, and out-plot3 based on the input size\n",
    "    updated_fig = fig.update_traces(x=[size], y=[size])\n",
    "    updated_fig1 = fig1.update_traces(values=[size], labels=[size])\n",
    "    updated_fig2 = fig2.update_traces(x=[size], y=[size])\n",
    "    return updated_fig, updated_fig1, updated_fig2\n",
    "\n",
    "if __name__ == '__main__':\n",
    "    app.run_server(use_reloader=False, mode='inline')\n",
    "\n"
   ]
  },
  {
   "cell_type": "markdown",
   "metadata": {},
   "source": [
    "# Q9: Search for \"Plotly Gallery\" and fetch for a graph and use it with our data.\n",
    "\n",
    "- Note: You need to put the resourse addres of fetched your grapth."
   ]
  },
  {
   "cell_type": "code",
   "execution_count": 1,
   "metadata": {},
   "outputs": [
    {
     "name": "stdout",
     "output_type": "stream",
     "text": [
      "Dash is running on http://127.0.0.1:8050/\n",
      "\n",
      "Dash app running on http://127.0.0.1:8050/\n"
     ]
    }
   ],
   "source": [
    "from dash import Dash, dcc, html, Input, Output\n",
    "import dash_bootstrap_components as dbc\n",
    "import plotly.graph_objects as go\n",
    "import plotly.express as px\n",
    "import numpy as np\n",
    "from jupyter_dash import JupyterDash\n",
    "import pandas as pd\n",
    "\n",
    "# https://plotly.com/python/line-and-scatter/\n",
    "# https://plotly.com/python/histograms/\n",
    "\n",
    "df = pd.read_csv(\"titanic passenger list.csv\")\n",
    "\n",
    "app = JupyterDash(__name__)\n",
    "\n",
    "app.layout = html.Div([\n",
    "    html.H4('Show cabin of Survivors'),\n",
    "    dcc.Dropdown(\n",
    "        id='demo-dropdown',\n",
    "        options=[\n",
    "            {'label': 'Embarked', 'value': 'embarked'},\n",
    "            {'label': 'Age', 'value': 'age'}\n",
    "        ],\n",
    "    ),\n",
    "    dcc.Graph(id=\"graph\"),\n",
    "])\n",
    "\n",
    "\n",
    "@app.callback(\n",
    "    Output(\"graph\", \"figure\"),\n",
    "    Input(\"demo-dropdown\", \"value\")\n",
    ")\n",
    "def update_bar_chart(x_axis):\n",
    "    fig = go.Figure()\n",
    "\n",
    "    if x_axis == 'embarked':\n",
    "        fig = px.histogram(df, x=x_axis, color='survived', barmode='group')\n",
    "    elif x_axis == 'age':\n",
    "        fig = px.scatter(df, x='age', y='fare', color='survived', trendline='ols')\n",
    "\n",
    "    return fig\n",
    "\n",
    "\n",
    "if __name__ == '__main__':\n",
    "    app.run_server()\n"
   ]
  },
  {
   "cell_type": "markdown",
   "metadata": {},
   "source": [
    "# Challenge 1.1: Create Plotly dash with two charts depends on different columns of the data\n",
    "- First Chart : Pie\n",
    "- Secound Chart: is by your Choice ( Not Pie )"
   ]
  },
  {
   "cell_type": "code",
   "execution_count": null,
   "metadata": {},
   "outputs": [],
   "source": []
  },
  {
   "cell_type": "markdown",
   "metadata": {},
   "source": [
    "# Challenge 1.2: Make Hovering over a slice of the pie changes the data for the second chart depending on what the slice is."
   ]
  },
  {
   "cell_type": "code",
   "execution_count": null,
   "metadata": {},
   "outputs": [],
   "source": []
  }
 ],
 "metadata": {
  "kernelspec": {
   "display_name": "Python 3 (ipykernel)",
   "language": "python",
   "name": "python3"
  },
  "language_info": {
   "codemirror_mode": {
    "name": "ipython",
    "version": 3
   },
   "file_extension": ".py",
   "mimetype": "text/x-python",
   "name": "python",
   "nbconvert_exporter": "python",
   "pygments_lexer": "ipython3",
   "version": "3.10.9"
  }
 },
 "nbformat": 4,
 "nbformat_minor": 2
}
